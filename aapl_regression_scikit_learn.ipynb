{
 "cells": [
  {
   "cell_type": "markdown",
   "metadata": {},
   "source": [
    "# Building a Regression Model for a Financial Dataset\n",
    "\n",
    "In this notebook, you will build a simple linear regression model to predict the closing AAPL stock price. The lab objectives are:\n",
    "* Pull data from BigQuery into a Pandas dataframe\n",
    "* Use Matplotlib to visualize data\n",
    "* Use Scikit-Learn to build a regression model"
   ]
  },
  {
   "cell_type": "markdown",
   "metadata": {},
   "source": [
    "**Note**: Restart your kernel to use updated packages."
   ]
  },
  {
   "cell_type": "markdown",
   "metadata": {},
   "source": [
    "Kindly ignore the deprecation warnings and incompatibility errors related to google-cloud-storage."
   ]
  },
  {
   "cell_type": "code",
   "execution_count": 27,
   "metadata": {},
   "outputs": [],
   "source": [
    "# # Run in GCP Cloud Shell \n",
    "# %%bash\n",
    "\n",
    "# bq mk -d ai_for_finance\n",
    "# bq load --autodetect --source_format=CSV ai_for_finance.AAPL10Y gs://cloud-training/ai4f/AAPL10Y.csv"
   ]
  },
  {
   "cell_type": "code",
   "execution_count": 28,
   "metadata": {},
   "outputs": [],
   "source": [
    "%matplotlib inline\n",
    "import os\n",
    "import pandas as pd\n",
    "import matplotlib.pyplot as plt\n",
    "import numpy as np\n",
    "from sklearn import linear_model\n",
    "from sklearn.metrics import mean_squared_error\n",
    "from sklearn.metrics import r2_score\n",
    "\n",
    "plt.rc('figure', figsize=(12, 8.0))"
   ]
  },
  {
   "cell_type": "code",
   "execution_count": 29,
   "metadata": {},
   "outputs": [],
   "source": [
    "from google.cloud import bigquery\n",
    "# https://google-auth.readthedocs.io/en/latest/user-guide.html\n",
    "from google.oauth2 import service_account\n",
    "# https://www.anycodings.com/questions/how-to-set-env-variable-in-jupyter-notebook\n",
    "path = os.environ.get('GOOGLE_APPLICATION_CREDENTIALS')\n",
    "credentials = service_account.Credentials.from_service_account_file(path)\n",
    "project_id = 'uol-datascience-341918'\n",
    "client = bigquery.Client(project=project_id, credentials=credentials)"
   ]
  },
  {
   "cell_type": "markdown",
   "metadata": {},
   "source": [
    "## Pull Data from BigQuery\n",
    "\n",
    "In this section we'll use a magic function to query a BigQuery table and then store the output in a Pandas dataframe. A magic function is just an alias to perform a system command. To see documentation on the \"bigquery\" magic function execute the following cell:"
   ]
  },
  {
   "cell_type": "markdown",
   "metadata": {},
   "source": [
    "The query below selects everything you'll need to build a regression model to predict the closing price of AAPL stock. The model will be very simple for the purposes of demonstrating BQML functionality. The only features you'll use as input into the model are the previous day's closing price and a three day trend value. The trend value can only take on two values, either -1 or +1. If the AAPL stock price has increased over any two of the previous three days then the trend will be +1. Otherwise, the trend value will be -1.\n",
    "\n",
    "Note, the features you'll need can be generated from the raw table `ai4f.AAPL10Y` using Pandas functions. However, it's better to take advantage of the serverless-ness of BigQuery to do the data pre-processing rather than applying the necessary transformations locally.  "
   ]
  },
  {
   "cell_type": "code",
   "execution_count": 52,
   "metadata": {},
   "outputs": [],
   "source": [
    "query = \"\"\"\n",
    "WITH\n",
    "  raw AS (\n",
    "  SELECT\n",
    "    date,\n",
    "    close,\n",
    "    LAG(close, 1) OVER(ORDER BY date ASC) AS min_1_close,\n",
    "    LAG(close, 2) OVER(ORDER BY date ASC) AS min_2_close,\n",
    "    LAG(close, 3) OVER(ORDER BY date ASC) AS min_3_close,\n",
    "    LAG(close, 4) OVER(ORDER BY date ASC) AS min_4_close\n",
    "  FROM\n",
    "    `ai_for_finance.AAPL10Y`\n",
    "  ORDER BY\n",
    "    date DESC )\n",
    "SELECT\n",
    "  *\n",
    "FROM\n",
    "  raw\n",
    "\"\"\""
   ]
  },
  {
   "cell_type": "code",
   "execution_count": 54,
   "metadata": {},
   "outputs": [
    {
     "data": {
      "text/html": [
       "<div>\n",
       "<style scoped>\n",
       "    .dataframe tbody tr th:only-of-type {\n",
       "        vertical-align: middle;\n",
       "    }\n",
       "\n",
       "    .dataframe tbody tr th {\n",
       "        vertical-align: top;\n",
       "    }\n",
       "\n",
       "    .dataframe thead th {\n",
       "        text-align: right;\n",
       "    }\n",
       "</style>\n",
       "<table border=\"1\" class=\"dataframe\">\n",
       "  <thead>\n",
       "    <tr style=\"text-align: right;\">\n",
       "      <th></th>\n",
       "      <th>date</th>\n",
       "      <th>close</th>\n",
       "      <th>min_1_close</th>\n",
       "      <th>min_2_close</th>\n",
       "      <th>min_3_close</th>\n",
       "      <th>min_4_close</th>\n",
       "    </tr>\n",
       "  </thead>\n",
       "  <tbody>\n",
       "    <tr>\n",
       "      <th>0</th>\n",
       "      <td>2019-06-03</td>\n",
       "      <td>173.3000</td>\n",
       "      <td>175.0700</td>\n",
       "      <td>178.3000</td>\n",
       "      <td>177.3800</td>\n",
       "      <td>178.2300</td>\n",
       "    </tr>\n",
       "    <tr>\n",
       "      <th>1</th>\n",
       "      <td>2019-05-31</td>\n",
       "      <td>175.0700</td>\n",
       "      <td>178.3000</td>\n",
       "      <td>177.3800</td>\n",
       "      <td>178.2300</td>\n",
       "      <td>178.9700</td>\n",
       "    </tr>\n",
       "    <tr>\n",
       "      <th>2</th>\n",
       "      <td>2019-05-30</td>\n",
       "      <td>178.3000</td>\n",
       "      <td>177.3800</td>\n",
       "      <td>178.2300</td>\n",
       "      <td>178.9700</td>\n",
       "      <td>179.6600</td>\n",
       "    </tr>\n",
       "    <tr>\n",
       "      <th>3</th>\n",
       "      <td>2019-05-29</td>\n",
       "      <td>177.3800</td>\n",
       "      <td>178.2300</td>\n",
       "      <td>178.9700</td>\n",
       "      <td>179.6600</td>\n",
       "      <td>182.7800</td>\n",
       "    </tr>\n",
       "    <tr>\n",
       "      <th>4</th>\n",
       "      <td>2019-05-28</td>\n",
       "      <td>178.2300</td>\n",
       "      <td>178.9700</td>\n",
       "      <td>179.6600</td>\n",
       "      <td>182.7800</td>\n",
       "      <td>186.6000</td>\n",
       "    </tr>\n",
       "    <tr>\n",
       "      <th>...</th>\n",
       "      <td>...</td>\n",
       "      <td>...</td>\n",
       "      <td>...</td>\n",
       "      <td>...</td>\n",
       "      <td>...</td>\n",
       "      <td>...</td>\n",
       "    </tr>\n",
       "    <tr>\n",
       "      <th>2512</th>\n",
       "      <td>2009-06-09</td>\n",
       "      <td>20.3886</td>\n",
       "      <td>20.5500</td>\n",
       "      <td>20.6671</td>\n",
       "      <td>20.5343</td>\n",
       "      <td>20.1357</td>\n",
       "    </tr>\n",
       "    <tr>\n",
       "      <th>2513</th>\n",
       "      <td>2009-06-08</td>\n",
       "      <td>20.5500</td>\n",
       "      <td>20.6671</td>\n",
       "      <td>20.5343</td>\n",
       "      <td>20.1357</td>\n",
       "      <td>NaN</td>\n",
       "    </tr>\n",
       "    <tr>\n",
       "      <th>2514</th>\n",
       "      <td>2009-06-05</td>\n",
       "      <td>20.6671</td>\n",
       "      <td>20.5343</td>\n",
       "      <td>20.1357</td>\n",
       "      <td>NaN</td>\n",
       "      <td>NaN</td>\n",
       "    </tr>\n",
       "    <tr>\n",
       "      <th>2515</th>\n",
       "      <td>2009-06-04</td>\n",
       "      <td>20.5343</td>\n",
       "      <td>20.1357</td>\n",
       "      <td>NaN</td>\n",
       "      <td>NaN</td>\n",
       "      <td>NaN</td>\n",
       "    </tr>\n",
       "    <tr>\n",
       "      <th>2516</th>\n",
       "      <td>2009-06-03</td>\n",
       "      <td>20.1357</td>\n",
       "      <td>NaN</td>\n",
       "      <td>NaN</td>\n",
       "      <td>NaN</td>\n",
       "      <td>NaN</td>\n",
       "    </tr>\n",
       "  </tbody>\n",
       "</table>\n",
       "<p>2517 rows × 6 columns</p>\n",
       "</div>"
      ],
      "text/plain": [
       "            date     close  min_1_close  min_2_close  min_3_close  min_4_close\n",
       "0     2019-06-03  173.3000     175.0700     178.3000     177.3800     178.2300\n",
       "1     2019-05-31  175.0700     178.3000     177.3800     178.2300     178.9700\n",
       "2     2019-05-30  178.3000     177.3800     178.2300     178.9700     179.6600\n",
       "3     2019-05-29  177.3800     178.2300     178.9700     179.6600     182.7800\n",
       "4     2019-05-28  178.2300     178.9700     179.6600     182.7800     186.6000\n",
       "...          ...       ...          ...          ...          ...          ...\n",
       "2512  2009-06-09   20.3886      20.5500      20.6671      20.5343      20.1357\n",
       "2513  2009-06-08   20.5500      20.6671      20.5343      20.1357          NaN\n",
       "2514  2009-06-05   20.6671      20.5343      20.1357          NaN          NaN\n",
       "2515  2009-06-04   20.5343      20.1357          NaN          NaN          NaN\n",
       "2516  2009-06-03   20.1357          NaN          NaN          NaN          NaN\n",
       "\n",
       "[2517 rows x 6 columns]"
      ]
     },
     "execution_count": 54,
     "metadata": {},
     "output_type": "execute_result"
    }
   ],
   "source": [
    "# sample_count = 2000\n",
    "df = client.query(query).to_dataframe()\n",
    "df"
   ]
  },
  {
   "cell_type": "code",
   "execution_count": 55,
   "metadata": {},
   "outputs": [],
   "source": [
    "query = \"\"\"\n",
    "WITH\n",
    "  raw AS (\n",
    "  SELECT\n",
    "    date,\n",
    "    close,\n",
    "    LAG(close, 1) OVER(ORDER BY date) AS min_1_close,\n",
    "    LAG(close, 2) OVER(ORDER BY date) AS min_2_close,\n",
    "    LAG(close, 3) OVER(ORDER BY date) AS min_3_close,\n",
    "    LAG(close, 4) OVER(ORDER BY date) AS min_4_close\n",
    "  FROM\n",
    "    `ai_for_finance.AAPL10Y`\n",
    "  ORDER BY\n",
    "    date DESC ),\n",
    "  raw_plus_trend AS (\n",
    "  SELECT\n",
    "    date,\n",
    "    close,\n",
    "    min_1_close,\n",
    "    IF (min_1_close - min_2_close > 0, 1, -1) AS min_1_trend,\n",
    "    IF (min_2_close - min_3_close > 0, 1, -1) AS min_2_trend,\n",
    "    IF (min_3_close - min_4_close > 0, 1, -1) AS min_3_trend\n",
    "  FROM\n",
    "    raw )\n",
    "SELECT\n",
    "  *\n",
    "FROM\n",
    "  raw_plus_trend\n",
    "\"\"\""
   ]
  },
  {
   "cell_type": "code",
   "execution_count": 56,
   "metadata": {},
   "outputs": [
    {
     "data": {
      "text/html": [
       "<div>\n",
       "<style scoped>\n",
       "    .dataframe tbody tr th:only-of-type {\n",
       "        vertical-align: middle;\n",
       "    }\n",
       "\n",
       "    .dataframe tbody tr th {\n",
       "        vertical-align: top;\n",
       "    }\n",
       "\n",
       "    .dataframe thead th {\n",
       "        text-align: right;\n",
       "    }\n",
       "</style>\n",
       "<table border=\"1\" class=\"dataframe\">\n",
       "  <thead>\n",
       "    <tr style=\"text-align: right;\">\n",
       "      <th></th>\n",
       "      <th>date</th>\n",
       "      <th>close</th>\n",
       "      <th>min_1_close</th>\n",
       "      <th>min_1_trend</th>\n",
       "      <th>min_2_trend</th>\n",
       "      <th>min_3_trend</th>\n",
       "    </tr>\n",
       "  </thead>\n",
       "  <tbody>\n",
       "    <tr>\n",
       "      <th>0</th>\n",
       "      <td>2019-06-03</td>\n",
       "      <td>173.3000</td>\n",
       "      <td>175.0700</td>\n",
       "      <td>-1</td>\n",
       "      <td>1</td>\n",
       "      <td>-1</td>\n",
       "    </tr>\n",
       "    <tr>\n",
       "      <th>1</th>\n",
       "      <td>2019-05-31</td>\n",
       "      <td>175.0700</td>\n",
       "      <td>178.3000</td>\n",
       "      <td>1</td>\n",
       "      <td>-1</td>\n",
       "      <td>-1</td>\n",
       "    </tr>\n",
       "    <tr>\n",
       "      <th>2</th>\n",
       "      <td>2019-05-30</td>\n",
       "      <td>178.3000</td>\n",
       "      <td>177.3800</td>\n",
       "      <td>-1</td>\n",
       "      <td>-1</td>\n",
       "      <td>-1</td>\n",
       "    </tr>\n",
       "    <tr>\n",
       "      <th>3</th>\n",
       "      <td>2019-05-29</td>\n",
       "      <td>177.3800</td>\n",
       "      <td>178.2300</td>\n",
       "      <td>-1</td>\n",
       "      <td>-1</td>\n",
       "      <td>-1</td>\n",
       "    </tr>\n",
       "    <tr>\n",
       "      <th>4</th>\n",
       "      <td>2019-05-28</td>\n",
       "      <td>178.2300</td>\n",
       "      <td>178.9700</td>\n",
       "      <td>-1</td>\n",
       "      <td>-1</td>\n",
       "      <td>-1</td>\n",
       "    </tr>\n",
       "    <tr>\n",
       "      <th>...</th>\n",
       "      <td>...</td>\n",
       "      <td>...</td>\n",
       "      <td>...</td>\n",
       "      <td>...</td>\n",
       "      <td>...</td>\n",
       "      <td>...</td>\n",
       "    </tr>\n",
       "    <tr>\n",
       "      <th>2512</th>\n",
       "      <td>2009-06-09</td>\n",
       "      <td>20.3886</td>\n",
       "      <td>20.5500</td>\n",
       "      <td>-1</td>\n",
       "      <td>1</td>\n",
       "      <td>1</td>\n",
       "    </tr>\n",
       "    <tr>\n",
       "      <th>2513</th>\n",
       "      <td>2009-06-08</td>\n",
       "      <td>20.5500</td>\n",
       "      <td>20.6671</td>\n",
       "      <td>1</td>\n",
       "      <td>1</td>\n",
       "      <td>-1</td>\n",
       "    </tr>\n",
       "    <tr>\n",
       "      <th>2514</th>\n",
       "      <td>2009-06-05</td>\n",
       "      <td>20.6671</td>\n",
       "      <td>20.5343</td>\n",
       "      <td>1</td>\n",
       "      <td>-1</td>\n",
       "      <td>-1</td>\n",
       "    </tr>\n",
       "    <tr>\n",
       "      <th>2515</th>\n",
       "      <td>2009-06-04</td>\n",
       "      <td>20.5343</td>\n",
       "      <td>20.1357</td>\n",
       "      <td>-1</td>\n",
       "      <td>-1</td>\n",
       "      <td>-1</td>\n",
       "    </tr>\n",
       "    <tr>\n",
       "      <th>2516</th>\n",
       "      <td>2009-06-03</td>\n",
       "      <td>20.1357</td>\n",
       "      <td>NaN</td>\n",
       "      <td>-1</td>\n",
       "      <td>-1</td>\n",
       "      <td>-1</td>\n",
       "    </tr>\n",
       "  </tbody>\n",
       "</table>\n",
       "<p>2517 rows × 6 columns</p>\n",
       "</div>"
      ],
      "text/plain": [
       "            date     close  min_1_close  min_1_trend  min_2_trend  min_3_trend\n",
       "0     2019-06-03  173.3000     175.0700           -1            1           -1\n",
       "1     2019-05-31  175.0700     178.3000            1           -1           -1\n",
       "2     2019-05-30  178.3000     177.3800           -1           -1           -1\n",
       "3     2019-05-29  177.3800     178.2300           -1           -1           -1\n",
       "4     2019-05-28  178.2300     178.9700           -1           -1           -1\n",
       "...          ...       ...          ...          ...          ...          ...\n",
       "2512  2009-06-09   20.3886      20.5500           -1            1            1\n",
       "2513  2009-06-08   20.5500      20.6671            1            1           -1\n",
       "2514  2009-06-05   20.6671      20.5343            1           -1           -1\n",
       "2515  2009-06-04   20.5343      20.1357           -1           -1           -1\n",
       "2516  2009-06-03   20.1357          NaN           -1           -1           -1\n",
       "\n",
       "[2517 rows x 6 columns]"
      ]
     },
     "execution_count": 56,
     "metadata": {},
     "output_type": "execute_result"
    }
   ],
   "source": [
    "# sample_count = 2000\n",
    "df = client.query(query).to_dataframe()\n",
    "df"
   ]
  },
  {
   "cell_type": "code",
   "execution_count": 59,
   "metadata": {},
   "outputs": [],
   "source": [
    "query = \"\"\"\n",
    "WITH\n",
    "  raw AS (\n",
    "  SELECT\n",
    "    date,\n",
    "    close,\n",
    "    LAG(close, 1) OVER(ORDER BY date) AS min_1_close,\n",
    "    LAG(close, 2) OVER(ORDER BY date) AS min_2_close,\n",
    "    LAG(close, 3) OVER(ORDER BY date) AS min_3_close,\n",
    "    LAG(close, 4) OVER(ORDER BY date) AS min_4_close\n",
    "  FROM\n",
    "    `ai_for_finance.AAPL10Y`\n",
    "  ORDER BY\n",
    "    date DESC ),\n",
    "  raw_plus_trend AS (\n",
    "  SELECT\n",
    "    date,\n",
    "    close,\n",
    "    min_1_close,\n",
    "    IF (min_1_close - min_2_close > 0, 1, -1) AS min_1_trend,\n",
    "    IF (min_2_close - min_3_close > 0, 1, -1) AS min_2_trend,\n",
    "    IF (min_3_close - min_4_close > 0, 1, -1) AS min_3_trend\n",
    "  FROM\n",
    "    raw ),\n",
    "  train_data AS (\n",
    "  SELECT\n",
    "    date,\n",
    "    close,\n",
    "    min_1_close AS day_prev_close,\n",
    "    IF (min_1_trend + min_2_trend + min_3_trend > 0, 1, -1) AS trend_3_day\n",
    "  FROM\n",
    "    raw_plus_trend\n",
    "  ORDER BY\n",
    "    date ASC )\n",
    "SELECT\n",
    "  *\n",
    "FROM\n",
    "  train_data\n",
    "\"\"\""
   ]
  },
  {
   "cell_type": "code",
   "execution_count": 61,
   "metadata": {},
   "outputs": [
    {
     "data": {
      "text/html": [
       "<div>\n",
       "<style scoped>\n",
       "    .dataframe tbody tr th:only-of-type {\n",
       "        vertical-align: middle;\n",
       "    }\n",
       "\n",
       "    .dataframe tbody tr th {\n",
       "        vertical-align: top;\n",
       "    }\n",
       "\n",
       "    .dataframe thead th {\n",
       "        text-align: right;\n",
       "    }\n",
       "</style>\n",
       "<table border=\"1\" class=\"dataframe\">\n",
       "  <thead>\n",
       "    <tr style=\"text-align: right;\">\n",
       "      <th></th>\n",
       "      <th>date</th>\n",
       "      <th>close</th>\n",
       "      <th>day_prev_close</th>\n",
       "      <th>trend_3_day</th>\n",
       "    </tr>\n",
       "  </thead>\n",
       "  <tbody>\n",
       "    <tr>\n",
       "      <th>0</th>\n",
       "      <td>2009-06-03</td>\n",
       "      <td>20.1357</td>\n",
       "      <td>NaN</td>\n",
       "      <td>-1</td>\n",
       "    </tr>\n",
       "    <tr>\n",
       "      <th>1</th>\n",
       "      <td>2009-06-04</td>\n",
       "      <td>20.5343</td>\n",
       "      <td>20.1357</td>\n",
       "      <td>-1</td>\n",
       "    </tr>\n",
       "    <tr>\n",
       "      <th>2</th>\n",
       "      <td>2009-06-05</td>\n",
       "      <td>20.6671</td>\n",
       "      <td>20.5343</td>\n",
       "      <td>-1</td>\n",
       "    </tr>\n",
       "    <tr>\n",
       "      <th>3</th>\n",
       "      <td>2009-06-08</td>\n",
       "      <td>20.5500</td>\n",
       "      <td>20.6671</td>\n",
       "      <td>1</td>\n",
       "    </tr>\n",
       "    <tr>\n",
       "      <th>4</th>\n",
       "      <td>2009-06-09</td>\n",
       "      <td>20.3886</td>\n",
       "      <td>20.5500</td>\n",
       "      <td>1</td>\n",
       "    </tr>\n",
       "    <tr>\n",
       "      <th>...</th>\n",
       "      <td>...</td>\n",
       "      <td>...</td>\n",
       "      <td>...</td>\n",
       "      <td>...</td>\n",
       "    </tr>\n",
       "    <tr>\n",
       "      <th>2512</th>\n",
       "      <td>2019-05-28</td>\n",
       "      <td>178.2300</td>\n",
       "      <td>178.9700</td>\n",
       "      <td>-1</td>\n",
       "    </tr>\n",
       "    <tr>\n",
       "      <th>2513</th>\n",
       "      <td>2019-05-29</td>\n",
       "      <td>177.3800</td>\n",
       "      <td>178.2300</td>\n",
       "      <td>-1</td>\n",
       "    </tr>\n",
       "    <tr>\n",
       "      <th>2514</th>\n",
       "      <td>2019-05-30</td>\n",
       "      <td>178.3000</td>\n",
       "      <td>177.3800</td>\n",
       "      <td>-1</td>\n",
       "    </tr>\n",
       "    <tr>\n",
       "      <th>2515</th>\n",
       "      <td>2019-05-31</td>\n",
       "      <td>175.0700</td>\n",
       "      <td>178.3000</td>\n",
       "      <td>-1</td>\n",
       "    </tr>\n",
       "    <tr>\n",
       "      <th>2516</th>\n",
       "      <td>2019-06-03</td>\n",
       "      <td>173.3000</td>\n",
       "      <td>175.0700</td>\n",
       "      <td>-1</td>\n",
       "    </tr>\n",
       "  </tbody>\n",
       "</table>\n",
       "<p>2517 rows × 4 columns</p>\n",
       "</div>"
      ],
      "text/plain": [
       "            date     close  day_prev_close  trend_3_day\n",
       "0     2009-06-03   20.1357             NaN           -1\n",
       "1     2009-06-04   20.5343         20.1357           -1\n",
       "2     2009-06-05   20.6671         20.5343           -1\n",
       "3     2009-06-08   20.5500         20.6671            1\n",
       "4     2009-06-09   20.3886         20.5500            1\n",
       "...          ...       ...             ...          ...\n",
       "2512  2019-05-28  178.2300        178.9700           -1\n",
       "2513  2019-05-29  177.3800        178.2300           -1\n",
       "2514  2019-05-30  178.3000        177.3800           -1\n",
       "2515  2019-05-31  175.0700        178.3000           -1\n",
       "2516  2019-06-03  173.3000        175.0700           -1\n",
       "\n",
       "[2517 rows x 4 columns]"
      ]
     },
     "execution_count": 61,
     "metadata": {},
     "output_type": "execute_result"
    }
   ],
   "source": [
    "# sample_count = 2000\n",
    "df = client.query(query).to_dataframe()\n",
    "df"
   ]
  },
  {
   "cell_type": "markdown",
   "metadata": {},
   "source": [
    "View the first five rows of the query's output. Note that the object `df` containing the query output is a Pandas Dataframe."
   ]
  },
  {
   "cell_type": "code",
   "execution_count": 62,
   "metadata": {},
   "outputs": [
    {
     "name": "stdout",
     "output_type": "stream",
     "text": [
      "<class 'pandas.core.frame.DataFrame'>\n"
     ]
    },
    {
     "data": {
      "text/html": [
       "<div>\n",
       "<style scoped>\n",
       "    .dataframe tbody tr th:only-of-type {\n",
       "        vertical-align: middle;\n",
       "    }\n",
       "\n",
       "    .dataframe tbody tr th {\n",
       "        vertical-align: top;\n",
       "    }\n",
       "\n",
       "    .dataframe thead th {\n",
       "        text-align: right;\n",
       "    }\n",
       "</style>\n",
       "<table border=\"1\" class=\"dataframe\">\n",
       "  <thead>\n",
       "    <tr style=\"text-align: right;\">\n",
       "      <th></th>\n",
       "      <th>date</th>\n",
       "      <th>close</th>\n",
       "      <th>day_prev_close</th>\n",
       "      <th>trend_3_day</th>\n",
       "    </tr>\n",
       "  </thead>\n",
       "  <tbody>\n",
       "    <tr>\n",
       "      <th>1</th>\n",
       "      <td>2009-06-04</td>\n",
       "      <td>20.5343</td>\n",
       "      <td>20.1357</td>\n",
       "      <td>-1</td>\n",
       "    </tr>\n",
       "    <tr>\n",
       "      <th>2</th>\n",
       "      <td>2009-06-05</td>\n",
       "      <td>20.6671</td>\n",
       "      <td>20.5343</td>\n",
       "      <td>-1</td>\n",
       "    </tr>\n",
       "    <tr>\n",
       "      <th>3</th>\n",
       "      <td>2009-06-08</td>\n",
       "      <td>20.5500</td>\n",
       "      <td>20.6671</td>\n",
       "      <td>1</td>\n",
       "    </tr>\n",
       "    <tr>\n",
       "      <th>4</th>\n",
       "      <td>2009-06-09</td>\n",
       "      <td>20.3886</td>\n",
       "      <td>20.5500</td>\n",
       "      <td>1</td>\n",
       "    </tr>\n",
       "    <tr>\n",
       "      <th>5</th>\n",
       "      <td>2009-06-10</td>\n",
       "      <td>20.0357</td>\n",
       "      <td>20.3886</td>\n",
       "      <td>-1</td>\n",
       "    </tr>\n",
       "  </tbody>\n",
       "</table>\n",
       "</div>"
      ],
      "text/plain": [
       "         date    close  day_prev_close  trend_3_day\n",
       "1  2009-06-04  20.5343         20.1357           -1\n",
       "2  2009-06-05  20.6671         20.5343           -1\n",
       "3  2009-06-08  20.5500         20.6671            1\n",
       "4  2009-06-09  20.3886         20.5500            1\n",
       "5  2009-06-10  20.0357         20.3886           -1"
      ]
     },
     "execution_count": 62,
     "metadata": {},
     "output_type": "execute_result"
    }
   ],
   "source": [
    "print(type(df))\n",
    "df.dropna(inplace=True)\n",
    "df.head()"
   ]
  },
  {
   "cell_type": "markdown",
   "metadata": {},
   "source": [
    "## Visualize data"
   ]
  },
  {
   "cell_type": "markdown",
   "metadata": {},
   "source": [
    "The simplest plot you can make is to show the closing stock price as a time series. Pandas DataFrames have built in plotting funtionality based on Matplotlib. "
   ]
  },
  {
   "cell_type": "code",
   "execution_count": 63,
   "metadata": {},
   "outputs": [
    {
     "data": {
      "image/png": "[encoded data removed]",
      "text/plain": [
       "<Figure size 1200x800 with 1 Axes>"
      ]
     },
     "metadata": {},
     "output_type": "display_data"
    }
   ],
   "source": [
    "df.plot(x='date', y='close');"
   ]
  },
  {
   "cell_type": "markdown",
   "metadata": {},
   "source": [
    "You can also embed the `trend_3_day` variable into the time series above. "
   ]
  },
  {
   "cell_type": "code",
   "execution_count": 64,
   "metadata": {},
   "outputs": [
    {
     "data": {
      "image/png": "[encoded data removed]",
      "text/plain": [
       "<Figure size 1200x800 with 1 Axes>"
      ]
     },
     "metadata": {},
     "output_type": "display_data"
    }
   ],
   "source": [
    "start_date = '2018-06-01'\n",
    "end_date = '2018-07-31'\n",
    "\n",
    "plt.plot(\n",
    "    'date', 'close', 'k--',\n",
    "    data = (\n",
    "        df.loc[pd.to_datetime(df.date).between(start_date, end_date)]\n",
    "    )\n",
    ")\n",
    "\n",
    "plt.scatter(\n",
    "    'date', 'close', color='b', label='pos trend', \n",
    "    data = (\n",
    "        df.loc[df.trend_3_day == 1 & pd.to_datetime(df.date).between(start_date, end_date)]\n",
    "    )\n",
    ")\n",
    "\n",
    "plt.scatter(\n",
    "    'date', 'close', color='r', label='neg trend',\n",
    "    data = (\n",
    "        df.loc[(df.trend_3_day == -1) & pd.to_datetime(df.date).between(start_date, end_date)]\n",
    "    )\n",
    ")\n",
    "\n",
    "plt.legend()\n",
    "plt.xticks(rotation = 90);"
   ]
  },
  {
   "cell_type": "code",
   "execution_count": 65,
   "metadata": {},
   "outputs": [
    {
     "data": {
      "text/plain": [
       "(2516, 4)"
      ]
     },
     "execution_count": 65,
     "metadata": {},
     "output_type": "execute_result"
    }
   ],
   "source": [
    "df.shape"
   ]
  },
  {
   "cell_type": "markdown",
   "metadata": {},
   "source": [
    "## Build a Regression Model in Scikit-Learn"
   ]
  },
  {
   "cell_type": "markdown",
   "metadata": {},
   "source": [
    "In this section you'll train a linear regression model to predict AAPL closing prices when given the previous day's closing price `day_prev_close` and the three day trend `trend_3_day`. A training set and test set are created by sequentially splitting the data after 2000 rows. "
   ]
  },
  {
   "cell_type": "code",
   "execution_count": null,
   "metadata": {},
   "outputs": [],
   "source": [
    "features = ['day_prev_close', 'trend_3_day']\n",
    "target = 'close'\n",
    "\n",
    "X_train, X_test = df.loc[:2000, features], df.loc[2000:, features]\n",
    "y_train, y_test = df.loc[:2000, target], df.loc[2000:, target]"
   ]
  },
  {
   "cell_type": "code",
   "execution_count": null,
   "metadata": {},
   "outputs": [],
   "source": [
    "# Create linear regression object\n",
    "regr = linear_model.LinearRegression(fit_intercept=False)"
   ]
  },
  {
   "cell_type": "code",
   "execution_count": null,
   "metadata": {},
   "outputs": [],
   "source": [
    "# Train the model using the training set\n",
    "regr.fit(X_train, y_train)"
   ]
  },
  {
   "cell_type": "code",
   "execution_count": null,
   "metadata": {},
   "outputs": [],
   "source": [
    "# Make predictions using the testing set\n",
    "y_pred = regr.predict(X_test)"
   ]
  },
  {
   "cell_type": "code",
   "execution_count": null,
   "metadata": {},
   "outputs": [],
   "source": [
    "# The mean squared error\n",
    "print('Root Mean Squared Error: {0:.2f}'.format(np.sqrt(mean_squared_error(y_test, y_pred))))\n",
    "\n",
    "# Explained variance score: 1 is perfect prediction\n",
    "print('Variance Score: {0:.2f}'.format(r2_score(y_test, y_pred)))"
   ]
  },
  {
   "cell_type": "code",
   "execution_count": null,
   "metadata": {},
   "outputs": [],
   "source": [
    "plt.scatter(y_test, y_pred)\n",
    "plt.plot([140, 240], [140, 240], 'r--', label='perfect fit')\n",
    "plt.xlabel('Actual')\n",
    "plt.ylabel('Predicted')\n",
    "plt.legend();"
   ]
  },
  {
   "cell_type": "markdown",
   "metadata": {},
   "source": [
    "The model's predictions are more or less in line with the truth. However, the utility of the model depends on the business context (i.e. you won't be making any money with this model). It's fair to question whether the variable `trend_3_day` even adds to the performance of the model:"
   ]
  },
  {
   "cell_type": "code",
   "execution_count": null,
   "metadata": {},
   "outputs": [],
   "source": [
    "print('Root Mean Squared Error: {0:.2f}'.format(np.sqrt(mean_squared_error(y_test, X_test.day_prev_close))))"
   ]
  },
  {
   "cell_type": "markdown",
   "metadata": {},
   "source": [
    "Indeed, the RMSE is actually lower if we simply use the previous day's closing value as a prediction! Does increasing the number of days included in the trend improve the model? Feel free to create new features and attempt to improve model performance!"
   ]
  }
 ],
 "metadata": {
  "kernelspec": {
   "display_name": "venv",
   "language": "python",
   "name": "venv"
  },
  "language_info": {
   "codemirror_mode": {
    "name": "ipython",
    "version": 3
   },
   "file_extension": ".py",
   "mimetype": "text/x-python",
   "name": "python",
   "nbconvert_exporter": "python",
   "pygments_lexer": "ipython3",
   "version": "3.9.12"
  }
 },
 "nbformat": 4,
 "nbformat_minor": 4
}
